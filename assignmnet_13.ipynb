{
 "cells": [
  {
   "cell_type": "code",
   "execution_count": 2,
   "metadata": {},
   "outputs": [],
   "source": [
    "import matplotlib.pyplot as plt\n",
    "import numpy as np\n",
    "%matplotlib inline\n",
    "from sklearn import datasets\n",
    "from sklearn import metrics\n",
    "from sklearn.svm import SVC\n",
    "from sklearn.model_selection import train_test_split"
   ]
  },
  {
   "cell_type": "code",
   "execution_count": 3,
   "metadata": {},
   "outputs": [],
   "source": [
    "#question1\n",
    "from sklearn.datasets import load_digits"
   ]
  },
  {
   "cell_type": "code",
   "execution_count": 4,
   "metadata": {},
   "outputs": [
    {
     "data": {
      "text/plain": [
       "(1797, 64)"
      ]
     },
     "execution_count": 4,
     "metadata": {},
     "output_type": "execute_result"
    }
   ],
   "source": [
    "digit=load_digits()\n",
    "x=digit.data\n",
    "y=digit.target\n",
    "x.shape"
   ]
  },
  {
   "cell_type": "code",
   "execution_count": 5,
   "metadata": {},
   "outputs": [],
   "source": [
    "#question2\n",
    "x_train,x_test,y_train,y_test = train_test_split(x,y,test_size = 0.3)"
   ]
  },
  {
   "cell_type": "code",
   "execution_count": 6,
   "metadata": {},
   "outputs": [],
   "source": [
    "#ques3(a)\n",
    "model=SVC()"
   ]
  },
  {
   "cell_type": "code",
   "execution_count": 7,
   "metadata": {},
   "outputs": [
    {
     "data": {
      "text/plain": [
       "SVC(C=1.0, cache_size=200, class_weight=None, coef0=0.0,\n",
       "  decision_function_shape='ovr', degree=3, gamma='auto', kernel='rbf',\n",
       "  max_iter=-1, probability=False, random_state=None, shrinking=True,\n",
       "  tol=0.001, verbose=False)"
      ]
     },
     "execution_count": 7,
     "metadata": {},
     "output_type": "execute_result"
    }
   ],
   "source": [
    "model.fit(x_train,y_train)"
   ]
  },
  {
   "cell_type": "code",
   "execution_count": 8,
   "metadata": {},
   "outputs": [],
   "source": [
    "pred=model.predict(x_test)"
   ]
  },
  {
   "cell_type": "code",
   "execution_count": 9,
   "metadata": {},
   "outputs": [
    {
     "data": {
      "text/plain": [
       "0.2796296296296296"
      ]
     },
     "execution_count": 9,
     "metadata": {},
     "output_type": "execute_result"
    }
   ],
   "source": [
    "metrics.accuracy_score(y_test,pred)"
   ]
  },
  {
   "cell_type": "code",
   "execution_count": 19,
   "metadata": {},
   "outputs": [
    {
     "name": "stdout",
     "output_type": "stream",
     "text": [
      "             precision    recall  f1-score   support\n",
      "\n",
      "          0       1.00      0.43      0.60        47\n",
      "          1       1.00      0.26      0.42        61\n",
      "          2       1.00      0.19      0.32        47\n",
      "          3       0.10      1.00      0.18        44\n",
      "          4       1.00      0.26      0.42        53\n",
      "          5       1.00      0.05      0.10        59\n",
      "          6       1.00      0.41      0.58        59\n",
      "          7       1.00      0.33      0.49        49\n",
      "          8       1.00      0.02      0.03        61\n",
      "          9       1.00      0.07      0.12        60\n",
      "\n",
      "avg / total       0.93      0.28      0.32       540\n",
      "\n"
     ]
    }
   ],
   "source": [
    "print(classification_report(y_test,pred))"
   ]
  },
  {
   "cell_type": "code",
   "execution_count": 33,
   "metadata": {},
   "outputs": [
    {
     "name": "stdout",
     "output_type": "stream",
     "text": [
      "[[20  0  0 27  0  0  0  0  0  0]\n",
      " [ 0 16  0 45  0  0  0  0  0  0]\n",
      " [ 0  0  9 38  0  0  0  0  0  0]\n",
      " [ 0  0  0 44  0  0  0  0  0  0]\n",
      " [ 0  0  0 39 14  0  0  0  0  0]\n",
      " [ 0  0  0 56  0  3  0  0  0  0]\n",
      " [ 0  0  0 35  0  0 24  0  0  0]\n",
      " [ 0  0  0 33  0  0  0 16  0  0]\n",
      " [ 0  0  0 60  0  0  0  0  1  0]\n",
      " [ 0  0  0 56  0  0  0  0  0  4]]\n"
     ]
    }
   ],
   "source": [
    "from sklearn.metrics import confusion_matrix\n",
    "print(confusion_matrix(y_test,pred))"
   ]
  },
  {
   "cell_type": "code",
   "execution_count": 11,
   "metadata": {},
   "outputs": [],
   "source": [
    "#ques3(b)\n",
    "model2= SVC(kernel='poly')"
   ]
  },
  {
   "cell_type": "code",
   "execution_count": 12,
   "metadata": {},
   "outputs": [
    {
     "data": {
      "text/plain": [
       "SVC(C=1.0, cache_size=200, class_weight=None, coef0=0.0,\n",
       "  decision_function_shape='ovr', degree=3, gamma='auto', kernel='poly',\n",
       "  max_iter=-1, probability=False, random_state=None, shrinking=True,\n",
       "  tol=0.001, verbose=False)"
      ]
     },
     "execution_count": 12,
     "metadata": {},
     "output_type": "execute_result"
    }
   ],
   "source": [
    "model2.fit(x_train,y_train)"
   ]
  },
  {
   "cell_type": "code",
   "execution_count": 13,
   "metadata": {},
   "outputs": [],
   "source": [
    "pred2=model2.predict(x_test)"
   ]
  },
  {
   "cell_type": "code",
   "execution_count": 14,
   "metadata": {},
   "outputs": [
    {
     "data": {
      "text/plain": [
       "0.9907407407407407"
      ]
     },
     "execution_count": 14,
     "metadata": {},
     "output_type": "execute_result"
    }
   ],
   "source": [
    "metrics.accuracy_score(y_test,pred2)"
   ]
  },
  {
   "cell_type": "code",
   "execution_count": 21,
   "metadata": {},
   "outputs": [
    {
     "name": "stdout",
     "output_type": "stream",
     "text": [
      "             precision    recall  f1-score   support\n",
      "\n",
      "          0       1.00      0.43      0.60        47\n",
      "          1       1.00      0.26      0.42        61\n",
      "          2       1.00      0.19      0.32        47\n",
      "          3       0.10      1.00      0.18        44\n",
      "          4       1.00      0.26      0.42        53\n",
      "          5       1.00      0.05      0.10        59\n",
      "          6       1.00      0.41      0.58        59\n",
      "          7       1.00      0.33      0.49        49\n",
      "          8       1.00      0.02      0.03        61\n",
      "          9       1.00      0.07      0.12        60\n",
      "\n",
      "avg / total       0.93      0.28      0.32       540\n",
      "\n"
     ]
    }
   ],
   "source": [
    "print(classification_report(y_test,pred))"
   ]
  },
  {
   "cell_type": "code",
   "execution_count": 34,
   "metadata": {},
   "outputs": [
    {
     "name": "stdout",
     "output_type": "stream",
     "text": [
      "[[46  0  0  0  1  0  0  0  0  0]\n",
      " [ 0 61  0  0  0  0  0  0  0  0]\n",
      " [ 0  0 47  0  0  0  0  0  0  0]\n",
      " [ 0  0  0 43  0  1  0  0  0  0]\n",
      " [ 0  0  0  0 53  0  0  0  0  0]\n",
      " [ 0  0  0  0  0 59  0  0  0  0]\n",
      " [ 0  0  0  0  0  0 59  0  0  0]\n",
      " [ 0  0  0  0  0  0  0 49  0  0]\n",
      " [ 0  1  0  0  0  0  0  1 59  0]\n",
      " [ 0  0  0  0  0  1  0  0  0 59]]\n"
     ]
    }
   ],
   "source": [
    "print(confusion_matrix(y_test,pred2))"
   ]
  },
  {
   "cell_type": "code",
   "execution_count": 15,
   "metadata": {},
   "outputs": [],
   "source": [
    "#ques3(b)\n",
    "model3= SVC(kernel='linear')"
   ]
  },
  {
   "cell_type": "code",
   "execution_count": 16,
   "metadata": {},
   "outputs": [
    {
     "data": {
      "text/plain": [
       "SVC(C=1.0, cache_size=200, class_weight=None, coef0=0.0,\n",
       "  decision_function_shape='ovr', degree=3, gamma='auto', kernel='linear',\n",
       "  max_iter=-1, probability=False, random_state=None, shrinking=True,\n",
       "  tol=0.001, verbose=False)"
      ]
     },
     "execution_count": 16,
     "metadata": {},
     "output_type": "execute_result"
    }
   ],
   "source": [
    "model3.fit(x_train,y_train)"
   ]
  },
  {
   "cell_type": "code",
   "execution_count": 17,
   "metadata": {},
   "outputs": [],
   "source": [
    "pred3=model3.predict(x_test)\n"
   ]
  },
  {
   "cell_type": "code",
   "execution_count": 18,
   "metadata": {},
   "outputs": [
    {
     "data": {
      "text/plain": [
       "0.9796296296296296"
      ]
     },
     "execution_count": 18,
     "metadata": {},
     "output_type": "execute_result"
    }
   ],
   "source": [
    "metrics.accuracy_score(y_test,pred3)"
   ]
  },
  {
   "cell_type": "code",
   "execution_count": 20,
   "metadata": {},
   "outputs": [
    {
     "name": "stdout",
     "output_type": "stream",
     "text": [
      "             precision    recall  f1-score   support\n",
      "\n",
      "          0       1.00      0.98      0.99        47\n",
      "          1       0.97      1.00      0.98        61\n",
      "          2       0.98      1.00      0.99        47\n",
      "          3       1.00      0.98      0.99        44\n",
      "          4       0.95      1.00      0.97        53\n",
      "          5       0.97      1.00      0.98        59\n",
      "          6       1.00      0.98      0.99        59\n",
      "          7       0.98      0.98      0.98        49\n",
      "          8       0.97      0.92      0.94        61\n",
      "          9       1.00      0.97      0.98        60\n",
      "\n",
      "avg / total       0.98      0.98      0.98       540\n",
      "\n"
     ]
    }
   ],
   "source": [
    "print(classification_report(y_test,pred3))"
   ]
  },
  {
   "cell_type": "code",
   "execution_count": 35,
   "metadata": {},
   "outputs": [
    {
     "name": "stdout",
     "output_type": "stream",
     "text": [
      "[[46  0  0  0  1  0  0  0  0  0]\n",
      " [ 0 61  0  0  0  0  0  0  0  0]\n",
      " [ 0  0 47  0  0  0  0  0  0  0]\n",
      " [ 0  0  0 43  0  1  0  0  0  0]\n",
      " [ 0  0  0  0 53  0  0  0  0  0]\n",
      " [ 0  0  0  0  0 59  0  0  0  0]\n",
      " [ 0  0  0  0  0  0 58  0  1  0]\n",
      " [ 0  0  0  0  1  0  0 48  0  0]\n",
      " [ 0  2  1  0  1  0  0  1 56  0]\n",
      " [ 0  0  0  0  0  1  0  0  1 58]]\n"
     ]
    }
   ],
   "source": [
    "print(confusion_matrix(y_test,pred3))\n"
   ]
  },
  {
   "cell_type": "code",
   "execution_count": 24,
   "metadata": {},
   "outputs": [],
   "source": [
    "#ques3(d)\n",
    "model4= SVC(kernel='sigmoid')"
   ]
  },
  {
   "cell_type": "code",
   "execution_count": 25,
   "metadata": {},
   "outputs": [
    {
     "data": {
      "text/plain": [
       "SVC(C=1.0, cache_size=200, class_weight=None, coef0=0.0,\n",
       "  decision_function_shape='ovr', degree=3, gamma='auto', kernel='sigmoid',\n",
       "  max_iter=-1, probability=False, random_state=None, shrinking=True,\n",
       "  tol=0.001, verbose=False)"
      ]
     },
     "execution_count": 25,
     "metadata": {},
     "output_type": "execute_result"
    }
   ],
   "source": [
    "model4.fit(x_train,y_train)"
   ]
  },
  {
   "cell_type": "code",
   "execution_count": 26,
   "metadata": {},
   "outputs": [],
   "source": [
    "pred4=model4.predict(x_test)"
   ]
  },
  {
   "cell_type": "code",
   "execution_count": 27,
   "metadata": {},
   "outputs": [
    {
     "data": {
      "text/plain": [
       "0.08148148148148149"
      ]
     },
     "execution_count": 27,
     "metadata": {},
     "output_type": "execute_result"
    }
   ],
   "source": [
    "metrics.accuracy_score(y_test,pred4)"
   ]
  },
  {
   "cell_type": "code",
   "execution_count": 28,
   "metadata": {},
   "outputs": [
    {
     "name": "stdout",
     "output_type": "stream",
     "text": [
      "             precision    recall  f1-score   support\n",
      "\n",
      "          0       0.00      0.00      0.00        47\n",
      "          1       0.00      0.00      0.00        61\n",
      "          2       0.00      0.00      0.00        47\n",
      "          3       0.08      1.00      0.15        44\n",
      "          4       0.00      0.00      0.00        53\n",
      "          5       0.00      0.00      0.00        59\n",
      "          6       0.00      0.00      0.00        59\n",
      "          7       0.00      0.00      0.00        49\n",
      "          8       0.00      0.00      0.00        61\n",
      "          9       0.00      0.00      0.00        60\n",
      "\n",
      "avg / total       0.01      0.08      0.01       540\n",
      "\n"
     ]
    },
    {
     "name": "stderr",
     "output_type": "stream",
     "text": [
      "C:\\Users\\Mehak Sood\\Anaconda3\\lib\\site-packages\\sklearn\\metrics\\classification.py:1135: UndefinedMetricWarning: Precision and F-score are ill-defined and being set to 0.0 in labels with no predicted samples.\n",
      "  'precision', 'predicted', average, warn_for)\n"
     ]
    }
   ],
   "source": [
    "print(classification_report(y_test,pred4))"
   ]
  },
  {
   "cell_type": "code",
   "execution_count": 36,
   "metadata": {},
   "outputs": [
    {
     "name": "stdout",
     "output_type": "stream",
     "text": [
      "[[ 0  0  0 47  0  0  0  0  0  0]\n",
      " [ 0  0  0 61  0  0  0  0  0  0]\n",
      " [ 0  0  0 47  0  0  0  0  0  0]\n",
      " [ 0  0  0 44  0  0  0  0  0  0]\n",
      " [ 0  0  0 53  0  0  0  0  0  0]\n",
      " [ 0  0  0 59  0  0  0  0  0  0]\n",
      " [ 0  0  0 59  0  0  0  0  0  0]\n",
      " [ 0  0  0 49  0  0  0  0  0  0]\n",
      " [ 0  0  0 61  0  0  0  0  0  0]\n",
      " [ 0  0  0 60  0  0  0  0  0  0]]\n"
     ]
    }
   ],
   "source": [
    "print(confusion_matrix(y_test,pred4))"
   ]
  },
  {
   "cell_type": "code",
   "execution_count": null,
   "metadata": {},
   "outputs": [],
   "source": []
  }
 ],
 "metadata": {
  "kernelspec": {
   "display_name": "Python 3",
   "language": "python",
   "name": "python3"
  },
  "language_info": {
   "codemirror_mode": {
    "name": "ipython",
    "version": 3
   },
   "file_extension": ".py",
   "mimetype": "text/x-python",
   "name": "python",
   "nbconvert_exporter": "python",
   "pygments_lexer": "ipython3",
   "version": "3.6.5"
  }
 },
 "nbformat": 4,
 "nbformat_minor": 2
}
